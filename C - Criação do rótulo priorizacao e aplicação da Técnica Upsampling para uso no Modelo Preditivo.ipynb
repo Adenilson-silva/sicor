{
 "cells": [
  {
   "cell_type": "markdown",
   "id": "43392bc8",
   "metadata": {},
   "source": [
    "## Análise Descritiva e Preditiva dos dados relativos ao Sistema de Operações do Crédito Rural e do Proagro (Sicor)"
   ]
  },
  {
   "cell_type": "markdown",
   "id": "f59e9407",
   "metadata": {},
   "source": [
    "###  ADENILSON SILVA"
   ]
  },
  {
   "cell_type": "markdown",
   "id": "6889bcbb",
   "metadata": {},
   "source": [
    "## Criação da Coluna \"priorizacao\" e Aplicação da Técnica Upsampling"
   ]
  },
  {
   "cell_type": "markdown",
   "id": "b84aa0ef",
   "metadata": {},
   "source": [
    "###  1 - Importando bibliotecas e criando funções"
   ]
  },
  {
   "cell_type": "code",
   "execution_count": 1,
   "id": "bd5a5049",
   "metadata": {},
   "outputs": [],
   "source": [
    "import pandas as pd  # Manipulação de dados tabulares (DataFrame)\n",
    "from sklearn.utils import resample  # Reamostragem de dados (ex: balanceamento de classes)\n",
    "import numpy as np  # Operações matemáticas e funções numéricas avançadas"
   ]
  },
  {
   "cell_type": "markdown",
   "id": "f0920aa1",
   "metadata": {},
   "source": [
    "### 2 - Leitura dos dados"
   ]
  },
  {
   "cell_type": "code",
   "execution_count": 2,
   "id": "f1c3aa9f",
   "metadata": {},
   "outputs": [
    {
     "data": {
      "text/html": [
       "<div>\n",
       "<style scoped>\n",
       "    .dataframe tbody tr th:only-of-type {\n",
       "        vertical-align: middle;\n",
       "    }\n",
       "\n",
       "    .dataframe tbody tr th {\n",
       "        vertical-align: top;\n",
       "    }\n",
       "\n",
       "    .dataframe thead th {\n",
       "        text-align: right;\n",
       "    }\n",
       "</style>\n",
       "<table border=\"1\" class=\"dataframe\">\n",
       "  <thead>\n",
       "    <tr style=\"text-align: right;\">\n",
       "      <th></th>\n",
       "      <th>data_inicio_empreendimento</th>\n",
       "      <th>data_fim_emprendimento</th>\n",
       "      <th>finalidade</th>\n",
       "      <th>atividade</th>\n",
       "      <th>modalidade</th>\n",
       "      <th>produto</th>\n",
       "      <th>variedade</th>\n",
       "      <th>cesta_safra</th>\n",
       "      <th>consorcio</th>\n",
       "      <th>ano</th>\n",
       "      <th>taxa_juro</th>\n",
       "      <th>sigla_uf</th>\n",
       "      <th>ano_criacao_empresa</th>\n",
       "      <th>categoria_empresa</th>\n",
       "    </tr>\n",
       "  </thead>\n",
       "  <tbody>\n",
       "    <tr>\n",
       "      <th>0</th>\n",
       "      <td>2018-08-29</td>\n",
       "      <td>NaT</td>\n",
       "      <td>custeio</td>\n",
       "      <td>pecuario(a)</td>\n",
       "      <td>pesca</td>\n",
       "      <td>armacao para barco de pesca</td>\n",
       "      <td>manutencao/aquisicao</td>\n",
       "      <td>ano civil / ano de exploracao</td>\n",
       "      <td>valor invalido</td>\n",
       "      <td>2022</td>\n",
       "      <td>5.00</td>\n",
       "      <td>RJ</td>\n",
       "      <td>2018</td>\n",
       "      <td>Em crescimento</td>\n",
       "    </tr>\n",
       "    <tr>\n",
       "      <th>1</th>\n",
       "      <td>2018-08-29</td>\n",
       "      <td>NaT</td>\n",
       "      <td>custeio</td>\n",
       "      <td>pecuario(a)</td>\n",
       "      <td>pesca</td>\n",
       "      <td>armacao para barco de pesca</td>\n",
       "      <td>manutencao/aquisicao</td>\n",
       "      <td>ano civil / ano de exploracao</td>\n",
       "      <td>valor invalido</td>\n",
       "      <td>2022</td>\n",
       "      <td>0.50</td>\n",
       "      <td>MA</td>\n",
       "      <td>2018</td>\n",
       "      <td>Em crescimento</td>\n",
       "    </tr>\n",
       "    <tr>\n",
       "      <th>2</th>\n",
       "      <td>2018-08-29</td>\n",
       "      <td>NaT</td>\n",
       "      <td>custeio</td>\n",
       "      <td>pecuario(a)</td>\n",
       "      <td>pesca</td>\n",
       "      <td>armacao para barco de pesca</td>\n",
       "      <td>manutencao/aquisicao</td>\n",
       "      <td>ano civil / ano de exploracao</td>\n",
       "      <td>valor invalido</td>\n",
       "      <td>2022</td>\n",
       "      <td>0.50</td>\n",
       "      <td>MA</td>\n",
       "      <td>2018</td>\n",
       "      <td>Em crescimento</td>\n",
       "    </tr>\n",
       "    <tr>\n",
       "      <th>3</th>\n",
       "      <td>2018-08-29</td>\n",
       "      <td>NaT</td>\n",
       "      <td>custeio</td>\n",
       "      <td>pecuario(a)</td>\n",
       "      <td>pesca</td>\n",
       "      <td>armacao para barco de pesca</td>\n",
       "      <td>manutencao/aquisicao</td>\n",
       "      <td>ano civil / ano de exploracao</td>\n",
       "      <td>valor invalido</td>\n",
       "      <td>2021</td>\n",
       "      <td>5.75</td>\n",
       "      <td>MA</td>\n",
       "      <td>2018</td>\n",
       "      <td>Em crescimento</td>\n",
       "    </tr>\n",
       "    <tr>\n",
       "      <th>4</th>\n",
       "      <td>2018-08-29</td>\n",
       "      <td>NaT</td>\n",
       "      <td>custeio</td>\n",
       "      <td>pecuario(a)</td>\n",
       "      <td>pesca</td>\n",
       "      <td>armacao para barco de pesca</td>\n",
       "      <td>manutencao/aquisicao</td>\n",
       "      <td>ano civil / ano de exploracao</td>\n",
       "      <td>valor invalido</td>\n",
       "      <td>2022</td>\n",
       "      <td>5.00</td>\n",
       "      <td>BA</td>\n",
       "      <td>2018</td>\n",
       "      <td>Em crescimento</td>\n",
       "    </tr>\n",
       "  </tbody>\n",
       "</table>\n",
       "</div>"
      ],
      "text/plain": [
       "  data_inicio_empreendimento data_fim_emprendimento finalidade    atividade  \\\n",
       "0                 2018-08-29                    NaT    custeio  pecuario(a)   \n",
       "1                 2018-08-29                    NaT    custeio  pecuario(a)   \n",
       "2                 2018-08-29                    NaT    custeio  pecuario(a)   \n",
       "3                 2018-08-29                    NaT    custeio  pecuario(a)   \n",
       "4                 2018-08-29                    NaT    custeio  pecuario(a)   \n",
       "\n",
       "  modalidade                      produto             variedade  \\\n",
       "0      pesca  armacao para barco de pesca  manutencao/aquisicao   \n",
       "1      pesca  armacao para barco de pesca  manutencao/aquisicao   \n",
       "2      pesca  armacao para barco de pesca  manutencao/aquisicao   \n",
       "3      pesca  armacao para barco de pesca  manutencao/aquisicao   \n",
       "4      pesca  armacao para barco de pesca  manutencao/aquisicao   \n",
       "\n",
       "                     cesta_safra       consorcio   ano  taxa_juro sigla_uf  \\\n",
       "0  ano civil / ano de exploracao  valor invalido  2022       5.00       RJ   \n",
       "1  ano civil / ano de exploracao  valor invalido  2022       0.50       MA   \n",
       "2  ano civil / ano de exploracao  valor invalido  2022       0.50       MA   \n",
       "3  ano civil / ano de exploracao  valor invalido  2021       5.75       MA   \n",
       "4  ano civil / ano de exploracao  valor invalido  2022       5.00       BA   \n",
       "\n",
       "   ano_criacao_empresa categoria_empresa  \n",
       "0                 2018    Em crescimento  \n",
       "1                 2018    Em crescimento  \n",
       "2                 2018    Em crescimento  \n",
       "3                 2018    Em crescimento  \n",
       "4                 2018    Em crescimento  "
      ]
     },
     "execution_count": 2,
     "metadata": {},
     "output_type": "execute_result"
    }
   ],
   "source": [
    "df = pd.read_parquet('dados/dados_tratados/dados_tratados.parquet')\n",
    "df.head(5)"
   ]
  },
  {
   "cell_type": "markdown",
   "id": "4073acff",
   "metadata": {},
   "source": [
    "### 3 - Criando coluna de priorização com base na proporção de cada característica"
   ]
  },
  {
   "cell_type": "code",
   "execution_count": 3,
   "id": "c8c999e9",
   "metadata": {
    "scrolled": false
   },
   "outputs": [],
   "source": [
    "df1 = df.atividade.value_counts(normalize=True).reset_index()\n",
    "df1.columns = ['atividade', 'proporcao_atividade']\n",
    "\n",
    "df2 = df.finalidade.value_counts(normalize=True).reset_index()\n",
    "df2.columns = ['finalidade', 'proporcao_finalidade']\n",
    "\n",
    "df3 = df.categoria_empresa.value_counts(normalize=True).reset_index()\n",
    "df3.columns = ['categoria_empresa', 'proporcao_categoria_empresa']\n",
    "\n",
    "df4 = df.modalidade.value_counts(normalize=True).reset_index()\n",
    "df4.columns = ['modalidade', 'proporcao_modalidade']\n",
    "\n",
    "df5 = df.produto.value_counts(normalize=True).reset_index()\n",
    "df5.columns = ['produto', 'proporcao_produto']\n",
    "\n",
    "cross_df = df1.merge(df2, how='cross')\n",
    "cross_df = cross_df.merge(df3, how='cross')\n",
    "cross_df = cross_df.merge(df4, how='cross')\n",
    "cross_df = cross_df.merge(df5, how='cross')\n",
    "\n",
    "cross_df['proporcao_conjunta'] = (\n",
    "    cross_df['proporcao_atividade'] *\n",
    "    cross_df['proporcao_finalidade'] *\n",
    "    cross_df['proporcao_categoria_empresa'] *\n",
    "    cross_df['proporcao_modalidade'] *\n",
    "    cross_df['proporcao_produto']\n",
    ")\n",
    "\n",
    "colunas = ['proporcao_atividade',\n",
    "           'proporcao_finalidade',\n",
    "           'proporcao_categoria_empresa',\n",
    "           'proporcao_modalidade',\n",
    "           'proporcao_produto']\n",
    "\n",
    "cross_df = cross_df.drop(columns=colunas)\n",
    "\n",
    "colunas_entrada = ['atividade', 'finalidade', 'categoria_empresa', 'modalidade', 'produto']\n",
    "df_classificado = df.merge(cross_df, on=colunas_entrada, how='left')\n",
    "\n",
    "colunas = ['finalidade','atividade','modalidade','produto','categoria_empresa','proporcao_conjunta']\n",
    "df_classificado = df_classificado[colunas].drop_duplicates()\n",
    "\n",
    "df_classificado['priorizacao'] = np.where(\n",
    "    df_classificado['proporcao_conjunta'] >= df_classificado['proporcao_conjunta'].quantile(.9),\n",
    "    'Alto',\n",
    "    'Normal'\n",
    ")\n",
    "\n",
    "colunas = ['finalidade','atividade','modalidade','produto','categoria_empresa','priorizacao']\n",
    "df_classificado = df_classificado[colunas].drop_duplicates()"
   ]
  },
  {
   "cell_type": "code",
   "execution_count": 4,
   "id": "b7fc893e",
   "metadata": {
    "scrolled": true
   },
   "outputs": [
    {
     "data": {
      "text/html": [
       "<div>\n",
       "<style scoped>\n",
       "    .dataframe tbody tr th:only-of-type {\n",
       "        vertical-align: middle;\n",
       "    }\n",
       "\n",
       "    .dataframe tbody tr th {\n",
       "        vertical-align: top;\n",
       "    }\n",
       "\n",
       "    .dataframe thead th {\n",
       "        text-align: right;\n",
       "    }\n",
       "</style>\n",
       "<table border=\"1\" class=\"dataframe\">\n",
       "  <thead>\n",
       "    <tr style=\"text-align: right;\">\n",
       "      <th></th>\n",
       "      <th>quantidade</th>\n",
       "      <th>percentual</th>\n",
       "    </tr>\n",
       "    <tr>\n",
       "      <th>priorizacao</th>\n",
       "      <th></th>\n",
       "      <th></th>\n",
       "    </tr>\n",
       "  </thead>\n",
       "  <tbody>\n",
       "    <tr>\n",
       "      <th>Normal</th>\n",
       "      <td>1265</td>\n",
       "      <td>0.899716</td>\n",
       "    </tr>\n",
       "    <tr>\n",
       "      <th>Alto</th>\n",
       "      <td>141</td>\n",
       "      <td>0.100284</td>\n",
       "    </tr>\n",
       "  </tbody>\n",
       "</table>\n",
       "</div>"
      ],
      "text/plain": [
       "             quantidade  percentual\n",
       "priorizacao                        \n",
       "Normal             1265    0.899716\n",
       "Alto                141    0.100284"
      ]
     },
     "execution_count": 4,
     "metadata": {},
     "output_type": "execute_result"
    }
   ],
   "source": [
    "df_classificado['priorizacao'].value_counts().to_frame('quantidade').assign(percentual=lambda x: x['quantidade'] / x['quantidade'].sum())\n"
   ]
  },
  {
   "cell_type": "markdown",
   "id": "ecd110c9",
   "metadata": {},
   "source": [
    "### 4 - Aplicação da Técnica _Upsampling_"
   ]
  },
  {
   "cell_type": "code",
   "execution_count": 5,
   "id": "b1a64ccf",
   "metadata": {},
   "outputs": [
    {
     "data": {
      "text/html": [
       "<div>\n",
       "<style scoped>\n",
       "    .dataframe tbody tr th:only-of-type {\n",
       "        vertical-align: middle;\n",
       "    }\n",
       "\n",
       "    .dataframe tbody tr th {\n",
       "        vertical-align: top;\n",
       "    }\n",
       "\n",
       "    .dataframe thead th {\n",
       "        text-align: right;\n",
       "    }\n",
       "</style>\n",
       "<table border=\"1\" class=\"dataframe\">\n",
       "  <thead>\n",
       "    <tr style=\"text-align: right;\">\n",
       "      <th></th>\n",
       "      <th>quantidade</th>\n",
       "      <th>percentual</th>\n",
       "    </tr>\n",
       "    <tr>\n",
       "      <th>priorizacao</th>\n",
       "      <th></th>\n",
       "      <th></th>\n",
       "    </tr>\n",
       "  </thead>\n",
       "  <tbody>\n",
       "    <tr>\n",
       "      <th>Normal</th>\n",
       "      <td>1265</td>\n",
       "      <td>0.800127</td>\n",
       "    </tr>\n",
       "    <tr>\n",
       "      <th>Alto</th>\n",
       "      <td>316</td>\n",
       "      <td>0.199873</td>\n",
       "    </tr>\n",
       "  </tbody>\n",
       "</table>\n",
       "</div>"
      ],
      "text/plain": [
       "             quantidade  percentual\n",
       "priorizacao                        \n",
       "Normal             1265    0.800127\n",
       "Alto                316    0.199873"
      ]
     },
     "execution_count": 5,
     "metadata": {},
     "output_type": "execute_result"
    }
   ],
   "source": [
    "df_majority = df_classificado[df_classificado['priorizacao'] == 'Normal']\n",
    "df_minority = df_classificado[df_classificado['priorizacao'] == 'Alto']\n",
    "\n",
    "\n",
    "n_majority = len(df_majority)\n",
    "n_minority_target = int((n_majority * 20) / 80)\n",
    "\n",
    "df_minority_upsampled = resample(df_minority,\n",
    "                                 replace=True,\n",
    "                                 n_samples=n_minority_target,\n",
    "                                 random_state=42)\n",
    "\n",
    "\n",
    "\n",
    "df_downsampled = pd.concat([df_majority, df_minority_upsampled])\n",
    "df_downsampled['priorizacao'].value_counts().to_frame('quantidade').assign(percentual=lambda x: x['quantidade'] / x['quantidade'].sum())"
   ]
  },
  {
   "cell_type": "code",
   "execution_count": 6,
   "id": "7ae54eef",
   "metadata": {},
   "outputs": [],
   "source": [
    "df_downsampled[colunas].to_parquet('dados/dados_tratados_ML/dados_tratados_ML.parquet')\n",
    "df_downsampled[colunas].to_csv('dados/dados_tratados_ML/dados_tratados_ML.csv', index=False)"
   ]
  },
  {
   "cell_type": "markdown",
   "id": "bed0452f",
   "metadata": {},
   "source": [
    "### Dados sobre versão"
   ]
  },
  {
   "cell_type": "code",
   "execution_count": 7,
   "id": "26a4951c",
   "metadata": {},
   "outputs": [
    {
     "name": "stdout",
     "output_type": "stream",
     "text": [
      "Python: 3.9.7 (default, Sep 16 2021, 16:59:28) [MSC v.1916 64 bit (AMD64)]\n",
      "pandas: 2.2.3\n",
      "numpy: 1.23.5\n",
      "sklearn: 1.3.0\n"
     ]
    }
   ],
   "source": [
    "import sys\n",
    "import pandas as pd\n",
    "import numpy as np\n",
    "import sklearn as skl\n",
    "print(\"Python:\", sys.version)\n",
    "print(\"pandas:\", pd.__version__)\n",
    "print(\"numpy:\", np.__version__)\n",
    "print(\"sklearn:\", skl.__version__)"
   ]
  }
 ],
 "metadata": {
  "kernelspec": {
   "display_name": "Python 3 (ipykernel)",
   "language": "python",
   "name": "python3"
  },
  "language_info": {
   "codemirror_mode": {
    "name": "ipython",
    "version": 3
   },
   "file_extension": ".py",
   "mimetype": "text/x-python",
   "name": "python",
   "nbconvert_exporter": "python",
   "pygments_lexer": "ipython3",
   "version": "3.9.7"
  }
 },
 "nbformat": 4,
 "nbformat_minor": 5
}
